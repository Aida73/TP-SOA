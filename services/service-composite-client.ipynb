{
 "cells": [
  {
   "cell_type": "code",
   "execution_count": 22,
   "metadata": {},
   "outputs": [],
   "source": [
    "import requests\n",
    "url = \"http://0.0.0.0:8001/extractionInformationService\""
   ]
  },
  {
   "cell_type": "code",
   "execution_count": 23,
   "metadata": {},
   "outputs": [],
   "source": [
    "extract_enveloppeSOAP = '''\\\n",
    "<soapenv:Envelope xmlns:soapenv=\"http://schemas.xmlsoap.org/soap/envelope/\" xmlns:spy=\"spyne.examples.hello\">\n",
    "    <soapenv:Header/>\n",
    "        <soapenv:Body>\n",
    "            <spy:extraire_information>\n",
    "                <!--Optional:-->\n",
    "                <spy:demande>Je m'appelle Michel Seck et je souhaite emprunter 200000 euros pour un logement de 300 m2 a Paris.</spy:demande>\n",
    "            </spy:extraire_information>\n",
    "        </soapenv:Body>\n",
    "</soapenv:Envelope>'''"
   ]
  },
  {
   "cell_type": "code",
   "execution_count": 24,
   "metadata": {},
   "outputs": [],
   "source": [
    "headers = {'content-type':'application/soap+xml; charset=utf-8'}\n",
    "response = requests.post(url, data=extract_enveloppeSOAP, headers=headers)"
   ]
  },
  {
   "cell_type": "code",
   "execution_count": 26,
   "metadata": {},
   "outputs": [
    {
     "name": "stdout",
     "output_type": "stream",
     "text": [
      "<?xml version='1.0' encoding='UTF-8'?>\n",
      "<soap11env:Envelope xmlns:soap11env=\"http://schemas.xmlsoap.org/soap/envelope/\" xmlns:tns=\"spyne.examples.hello\"><soap11env:Body><tns:extraire_informationResponse><tns:extraire_informationResult><tns:string>Voici les infos extraites de la demande, {\n",
      "    \"prenom\": \"Michel\",\n",
      "    \"nom\": \"Seck\",\n",
      "    \"montant\": \"200000 euros\",\n",
      "    \"logement\": \"de 300 m2 a Paris.\"\n",
      "}</tns:string></tns:extraire_informationResult></tns:extraire_informationResponse></soap11env:Body></soap11env:Envelope>\n"
     ]
    }
   ],
   "source": [
    "print(response.text)"
   ]
  },
  {
   "cell_type": "code",
   "execution_count": null,
   "metadata": {},
   "outputs": [],
   "source": []
  }
 ],
 "metadata": {
  "kernelspec": {
   "display_name": "base",
   "language": "python",
   "name": "python3"
  },
  "language_info": {
   "codemirror_mode": {
    "name": "ipython",
    "version": 3
   },
   "file_extension": ".py",
   "mimetype": "text/x-python",
   "name": "python",
   "nbconvert_exporter": "python",
   "pygments_lexer": "ipython3",
   "version": "3.11.3"
  },
  "orig_nbformat": 4
 },
 "nbformat": 4,
 "nbformat_minor": 2
}
