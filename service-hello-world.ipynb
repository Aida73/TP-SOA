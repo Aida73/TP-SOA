{
 "cells": [
  {
   "cell_type": "code",
   "execution_count": 1,
   "metadata": {
    "scrolled": true
   },
   "outputs": [
    {
     "name": "stdout",
     "output_type": "stream",
     "text": [
      "\u001b[33mDEPRECATION: Configuring installation scheme with distutils config files is deprecated and will no longer work in the near future. If you are using a Homebrew or Linuxbrew Python, please see discussion at https://github.com/Homebrew/homebrew-core/issues/76621\u001b[0m\u001b[33m\n",
      "\u001b[0mCollecting spyne\n",
      "  Using cached spyne-2.14.0.tar.gz (528 kB)\n",
      "  Preparing metadata (setup.py) ... \u001b[?25ldone\n",
      "\u001b[?25hRequirement already satisfied: pytz in /usr/local/lib/python3.9/site-packages (from spyne) (2023.3)\n",
      "Building wheels for collected packages: spyne\n",
      "  Building wheel for spyne (setup.py) ... \u001b[?25ldone\n",
      "\u001b[?25h  Created wheel for spyne: filename=spyne-2.14.0-py3-none-any.whl size=527895 sha256=8a81bdfd43f5f0894ca3ee5d9f61a456c973a1d251a7ae88a23eb71026e0f2ad\n",
      "  Stored in directory: /Users/user/Library/Caches/pip/wheels/6e/6f/cd/f0e2fa7e59316f7689fcc24f0ec9dfbd7cee97c2f7f13c1554\n",
      "Successfully built spyne\n",
      "Installing collected packages: spyne\n",
      "\u001b[33m  DEPRECATION: Configuring installation scheme with distutils config files is deprecated and will no longer work in the near future. If you are using a Homebrew or Linuxbrew Python, please see discussion at https://github.com/Homebrew/homebrew-core/issues/76621\u001b[0m\u001b[33m\n",
      "\u001b[0m\u001b[33mDEPRECATION: Configuring installation scheme with distutils config files is deprecated and will no longer work in the near future. If you are using a Homebrew or Linuxbrew Python, please see discussion at https://github.com/Homebrew/homebrew-core/issues/76621\u001b[0m\u001b[33m\n",
      "\u001b[0mSuccessfully installed spyne-2.14.0\n",
      "\n",
      "\u001b[1m[\u001b[0m\u001b[34;49mnotice\u001b[0m\u001b[1;39;49m]\u001b[0m\u001b[39;49m A new release of pip is available: \u001b[0m\u001b[31;49m23.0.1\u001b[0m\u001b[39;49m -> \u001b[0m\u001b[32;49m23.3.1\u001b[0m\n",
      "\u001b[1m[\u001b[0m\u001b[34;49mnotice\u001b[0m\u001b[1;39;49m]\u001b[0m\u001b[39;49m To update, run: \u001b[0m\u001b[32;49mpython3.9 -m pip install --upgrade pip\u001b[0m\n"
     ]
    }
   ],
   "source": [
    "! pip install spyne"
   ]
  },
  {
   "cell_type": "code",
   "execution_count": 2,
   "metadata": {},
   "outputs": [
    {
     "name": "stdout",
     "output_type": "stream",
     "text": [
      "\u001b[33mDEPRECATION: Configuring installation scheme with distutils config files is deprecated and will no longer work in the near future. If you are using a Homebrew or Linuxbrew Python, please see discussion at https://github.com/Homebrew/homebrew-core/issues/76621\u001b[0m\u001b[33m\n",
      "\u001b[0mCollecting twisted\n",
      "  Downloading twisted-23.8.0-py3-none-any.whl (3.1 MB)\n",
      "\u001b[2K     \u001b[90m━━━━━━━━━━━━━━━━━━━━━━━━━━━━━━━━━━━━━━━━\u001b[0m \u001b[32m3.1/3.1 MB\u001b[0m \u001b[31m22.3 MB/s\u001b[0m eta \u001b[36m0:00:00\u001b[0m00:01\u001b[0m00:01\u001b[0m\n",
      "\u001b[?25hRequirement already satisfied: attrs>=21.3.0 in /usr/local/lib/python3.9/site-packages (from twisted) (23.1.0)\n",
      "Collecting hyperlink>=17.1.1\n",
      "  Using cached hyperlink-21.0.0-py2.py3-none-any.whl (74 kB)\n",
      "Collecting zope-interface>=5\n",
      "  Downloading zope.interface-6.1-cp39-cp39-macosx_10_9_x86_64.whl (202 kB)\n",
      "\u001b[2K     \u001b[90m━━━━━━━━━━━━━━━━━━━━━━━━━━━━━━━━━━━━━━━\u001b[0m \u001b[32m202.4/202.4 kB\u001b[0m \u001b[31m7.0 MB/s\u001b[0m eta \u001b[36m0:00:00\u001b[0m\n",
      "\u001b[?25hCollecting constantly>=15.1\n",
      "  Using cached constantly-15.1.0-py2.py3-none-any.whl (7.9 kB)\n",
      "Requirement already satisfied: typing-extensions>=3.10.0 in /usr/local/lib/python3.9/site-packages (from twisted) (4.7.1)\n",
      "Collecting automat>=0.8.0\n",
      "  Downloading Automat-22.10.0-py2.py3-none-any.whl (26 kB)\n",
      "Collecting incremental>=22.10.0\n",
      "  Downloading incremental-22.10.0-py2.py3-none-any.whl (16 kB)\n",
      "Requirement already satisfied: six in /usr/local/lib/python3.9/site-packages (from automat>=0.8.0->twisted) (1.16.0)\n",
      "Requirement already satisfied: idna>=2.5 in /usr/local/lib/python3.9/site-packages (from hyperlink>=17.1.1->twisted) (3.3)\n",
      "Requirement already satisfied: setuptools in /usr/local/lib/python3.9/site-packages (from zope-interface>=5->twisted) (65.6.3)\n",
      "Installing collected packages: incremental, constantly, zope-interface, hyperlink, automat, twisted\n",
      "\u001b[33m  DEPRECATION: Configuring installation scheme with distutils config files is deprecated and will no longer work in the near future. If you are using a Homebrew or Linuxbrew Python, please see discussion at https://github.com/Homebrew/homebrew-core/issues/76621\u001b[0m\u001b[33m\n",
      "\u001b[0m\u001b[33m  DEPRECATION: Configuring installation scheme with distutils config files is deprecated and will no longer work in the near future. If you are using a Homebrew or Linuxbrew Python, please see discussion at https://github.com/Homebrew/homebrew-core/issues/76621\u001b[0m\u001b[33m\n",
      "\u001b[0m\u001b[33m  DEPRECATION: Configuring installation scheme with distutils config files is deprecated and will no longer work in the near future. If you are using a Homebrew or Linuxbrew Python, please see discussion at https://github.com/Homebrew/homebrew-core/issues/76621\u001b[0m\u001b[33m\n",
      "\u001b[0m\u001b[33m  DEPRECATION: Configuring installation scheme with distutils config files is deprecated and will no longer work in the near future. If you are using a Homebrew or Linuxbrew Python, please see discussion at https://github.com/Homebrew/homebrew-core/issues/76621\u001b[0m\u001b[33m\n",
      "\u001b[0m\u001b[33m  DEPRECATION: Configuring installation scheme with distutils config files is deprecated and will no longer work in the near future. If you are using a Homebrew or Linuxbrew Python, please see discussion at https://github.com/Homebrew/homebrew-core/issues/76621\u001b[0m\u001b[33m\n",
      "\u001b[0m\u001b[33m  DEPRECATION: Configuring installation scheme with distutils config files is deprecated and will no longer work in the near future. If you are using a Homebrew or Linuxbrew Python, please see discussion at https://github.com/Homebrew/homebrew-core/issues/76621\u001b[0m\u001b[33m\n",
      "\u001b[0m\u001b[33mDEPRECATION: Configuring installation scheme with distutils config files is deprecated and will no longer work in the near future. If you are using a Homebrew or Linuxbrew Python, please see discussion at https://github.com/Homebrew/homebrew-core/issues/76621\u001b[0m\u001b[33m\n",
      "\u001b[0mSuccessfully installed automat-22.10.0 constantly-15.1.0 hyperlink-21.0.0 incremental-22.10.0 twisted-23.8.0 zope-interface-6.1\n",
      "\n",
      "\u001b[1m[\u001b[0m\u001b[34;49mnotice\u001b[0m\u001b[1;39;49m]\u001b[0m\u001b[39;49m A new release of pip is available: \u001b[0m\u001b[31;49m23.0.1\u001b[0m\u001b[39;49m -> \u001b[0m\u001b[32;49m23.3.1\u001b[0m\n",
      "\u001b[1m[\u001b[0m\u001b[34;49mnotice\u001b[0m\u001b[1;39;49m]\u001b[0m\u001b[39;49m To update, run: \u001b[0m\u001b[32;49mpython3.9 -m pip install --upgrade pip\u001b[0m\n"
     ]
    }
   ],
   "source": [
    "! pip install twisted"
   ]
  },
  {
   "cell_type": "code",
   "execution_count": 4,
   "metadata": {},
   "outputs": [
    {
     "name": "stdout",
     "output_type": "stream",
     "text": [
      "\u001b[33mDEPRECATION: Configuring installation scheme with distutils config files is deprecated and will no longer work in the near future. If you are using a Homebrew or Linuxbrew Python, please see discussion at https://github.com/Homebrew/homebrew-core/issues/76621\u001b[0m\u001b[33m\n",
      "\u001b[0m\u001b[31mERROR: Could not find a version that satisfies the requirement logged (from versions: none)\u001b[0m\u001b[31m\n",
      "\u001b[0m\u001b[31mERROR: No matching distribution found for logged\u001b[0m\u001b[31m\n",
      "\u001b[0m\n",
      "\u001b[1m[\u001b[0m\u001b[34;49mnotice\u001b[0m\u001b[1;39;49m]\u001b[0m\u001b[39;49m A new release of pip is available: \u001b[0m\u001b[31;49m23.0.1\u001b[0m\u001b[39;49m -> \u001b[0m\u001b[32;49m23.3.1\u001b[0m\n",
      "\u001b[1m[\u001b[0m\u001b[34;49mnotice\u001b[0m\u001b[1;39;49m]\u001b[0m\u001b[39;49m To update, run: \u001b[0m\u001b[32;49mpython3.9 -m pip install --upgrade pip\u001b[0m\n"
     ]
    }
   ],
   "source": []
  },
  {
   "cell_type": "code",
   "execution_count": 5,
   "metadata": {},
   "outputs": [],
   "source": [
    "import logging\n",
    "logging.basicConfig(level=logging.DEBUG)\n",
    "import sys\n",
    "from spyne import Application, rpc, ServiceBase, Unicode, Integer, Iterable\n",
    "from spyne.protocol.soap import Soap11\n",
    "from spyne.server.wsgi import WsgiApplication\n",
    "from spyne.util.wsgi_wrapper import run_twisted"
   ]
  },
  {
   "cell_type": "code",
   "execution_count": null,
   "metadata": {},
   "outputs": [
    {
     "name": "stderr",
     "output_type": "stream",
     "text": [
      "DEBUG:spyne.model.complex:Got bases for Iterable from orig: (<class 'spyne.model.complex.Array'>,)\n",
      "DEBUG:spyne.model._base:\tstring: setting max_occurs=Decimal('Infinity')\n",
      "DEBUG:spyne.model.complex:Got bases for say_hello from meta: (<class 'spyne.model.complex.ComplexModel'>,)\n",
      "DEBUG:spyne.model.complex:Got bases for say_helloResponse from meta: (<class 'spyne.model.complex.ComplexModel'>,)\n",
      "INFO:spyne.application:Initializing application {spyne.examples.hello}Application...\n",
      "DEBUG:spyne.interface._base:populating __main__.helloWorldService types...\n",
      "DEBUG:spyne.interface._base:  enumerating classes for method 'say_hello'\n",
      "DEBUG:spyne.interface._base:    adding class \"<class 'spyne.model.complex.say_hello'>\" for '{spyne.examples.hello}say_hello'\n",
      "DEBUG:spyne.interface._base:    adding say_hello.name = <class 'spyne.model.primitive.string.Unicode'>\n",
      "DEBUG:spyne.interface._base:    adding class \"<class 'spyne.model.primitive.string.Unicode'>\" for '{http://www.w3.org/2001/XMLSchema}string'\n",
      "DEBUG:spyne.interface._base:    adding say_hello.times = <class 'spyne.model.primitive.number.Integer'>\n",
      "DEBUG:spyne.interface._base:    adding class \"<class 'spyne.model.primitive.number.Integer'>\" for '{http://www.w3.org/2001/XMLSchema}integer'\n",
      "DEBUG:spyne.interface._base:    adding class \"<class 'spyne.model.complex.say_helloResponse'>\" for '{spyne.examples.hello}say_helloResponse'\n",
      "DEBUG:spyne.interface._base:    adding say_helloResponse.say_helloResult = <class 'spyne.model.complex.Iterable'>\n",
      "DEBUG:spyne.interface._base:    adding class \"<class 'spyne.model.complex.Iterable'>\" for '{spyne.examples.hello}stringArray'\n",
      "DEBUG:spyne.interface._base:    adding stringArray.string = <class 'spyne.model.primitive.string.Unicode'>\n",
      "DEBUG:spyne.interface._base:populating '__main__.helloWorldService' routes...\n",
      "DEBUG:spyne.interface._base:  adding method helloWorldService.say_hello to match '{spyne.examples.hello}say_hello' tag.\n",
      "DEBUG:spyne.interface._base:From this point on, you're not supposed to make any changes to the class and method structure of the exposed services.\n",
      "DEBUG:spyne.interface.xml_schema:generating schema for targetNamespace='spyne.examples.hello', prefix: 'tns' in dir '/var/folders/gn/cr4yj18d1tv34pkws9v_kq1r0000gn/T/spyne1x951cu6'\n",
      "DEBUG:spyne.interface.xml_schema:writing '/var/folders/gn/cr4yj18d1tv34pkws9v_kq1r0000gn/T/spyne1x951cu6/tns.xsd' for ns spyne.examples.hello\n",
      "DEBUG:spyne.interface.xml_schema:Schema built. Removed '/var/folders/gn/cr4yj18d1tv34pkws9v_kq1r0000gn/T/spyne1x951cu6'\n",
      "DEBUG:spyne.util.appreg:Registering <spyne.application.Application object at 0x113fa6bd0> as ('spyne.examples.hello', 'Application')\n",
      "INFO:root:registering static folder '/Users/user/Desktop/M2-DataScale/SOA/TPS/TP1' on /\n",
      "INFO:root:registering <spyne.server.wsgi.WsgiApplication object at 0x113fa9410> on /b'helloWorldService'\n",
      "INFO:root:listening on: 0.0.0.0:8000\n",
      "DEBUG:spyne.server.wsgi:Add http header 'host' = ['0.0.0.0:8000']\n",
      "DEBUG:spyne.server.wsgi:Add http header 'user_agent' = ['python-requests/2.29.0']\n",
      "DEBUG:spyne.server.wsgi:Add http header 'accept_encoding' = ['gzip, deflate, br']\n",
      "DEBUG:spyne.server.wsgi:Add http header 'accept' = ['*/*']\n",
      "DEBUG:spyne.server.wsgi:Add http header 'connection' = ['keep-alive']\n",
      "DEBUG:spyne.server.wsgi:Add http header 'content_type' = ['application/soap+xml; charset=utf-8']\n",
      "DEBUG:spyne.server.wsgi:Add http header 'content_length' = ['403']\n",
      "DEBUG:spyne.protocol.xml:Validated ? True\n",
      "DEBUG:spyne.protocol._base:<spyne.protocol.soap.soap11.Soap11 object at 0x11349ea90> attrcache size: 0\n",
      "DEBUG:spyne.protocol._base:<spyne.protocol.soap.soap11.Soap11 object at 0x11349ea90> attrcache size: 1\n",
      "DEBUG:spyne.protocol._base:<spyne.protocol.soap.soap11.Soap11 object at 0x11349ea90> attrcache size: 1\n",
      "DEBUG:spyne.protocol._base:<spyne.protocol.soap.soap11.Soap11 object at 0x11349ea90> attrcache size: 2\n",
      "DEBUG:spyne.protocol._base:<spyne.protocol.soap.soap11.Soap11 object at 0x11349ea90> attrcache size: 2\n",
      "DEBUG:spyne.protocol._base:<spyne.protocol.soap.soap11.Soap11 object at 0x11349ea90> attrcache size: 2\n",
      "DEBUG:spyne.protocol._base:<spyne.protocol.soap.soap11.Soap11 object at 0x11349ea90> attrcache size: 3\n",
      "DEBUG:spyne.protocol._base:<spyne.protocol.soap.soap11.Soap11 object at 0x11349ea90> attrcache size: 3\n",
      "DEBUG:spyne.protocol._base:<spyne.protocol.soap.soap11.Soap11 object at 0x11349ea90> attrcache size: 3\n",
      "DEBUG:spyne.protocol._base:<spyne.protocol.soap.soap11.Soap11 object at 0x113530410> attrcache size: 0\n",
      "DEBUG:spyne.protocol._base:PMORPH Skipped: <spyne.protocol.soap.soap11.Soap11 object at 0x113530410> is NOT polymorphic\n",
      "DEBUG:spyne.protocol._base:<spyne.protocol.soap.soap11.Soap11 object at 0x113530410> attrcache size: 1\n",
      "DEBUG:spyne.protocol._base:<spyne.protocol.soap.soap11.Soap11 object at 0x113530410> attrcache size: 1\n",
      "DEBUG:spyne.protocol._base:<spyne.protocol.soap.soap11.Soap11 object at 0x113530410> attrcache size: 1\n",
      "DEBUG:spyne.protocol._base:PMORPH Skipped: <spyne.protocol.soap.soap11.Soap11 object at 0x113530410> is NOT polymorphic\n",
      "DEBUG:spyne.protocol._base:<spyne.protocol.soap.soap11.Soap11 object at 0x113530410> attrcache size: 2\n",
      "DEBUG:spyne.protocol._base:<spyne.protocol.soap.soap11.Soap11 object at 0x113530410> attrcache size: 2\n",
      "DEBUG:spyne.protocol._base:<spyne.protocol.soap.soap11.Soap11 object at 0x113530410> attrcache size: 2\n",
      "DEBUG:spyne.protocol._base:PMORPH Skipped: <spyne.protocol.soap.soap11.Soap11 object at 0x113530410> is NOT polymorphic\n",
      "DEBUG:spyne.protocol._base:<spyne.protocol.soap.soap11.Soap11 object at 0x113530410> attrcache size: 3\n",
      "DEBUG:spyne.protocol._base:<spyne.protocol.soap.soap11.Soap11 object at 0x113530410> attrcache size: 3\n",
      "DEBUG:spyne.protocol._base:PMORPH Skipped: <spyne.protocol.soap.soap11.Soap11 object at 0x113530410> is NOT polymorphic\n",
      "DEBUG:spyne.protocol._base:<spyne.protocol.soap.soap11.Soap11 object at 0x113530410> attrcache size: 3\n",
      "DEBUG:spyne.protocol._base:<spyne.protocol.soap.soap11.Soap11 object at 0x113530410> attrcache size: 3\n",
      "DEBUG:spyne.protocol._base:PMORPH Skipped: <spyne.protocol.soap.soap11.Soap11 object at 0x113530410> is NOT polymorphic\n",
      "DEBUG:spyne.protocol._base:<spyne.protocol.soap.soap11.Soap11 object at 0x113530410> attrcache size: 3\n",
      "DEBUG:spyne.protocol._base:<spyne.protocol.soap.soap11.Soap11 object at 0x113530410> attrcache size: 3\n",
      "DEBUG:spyne.protocol._base:PMORPH Skipped: <spyne.protocol.soap.soap11.Soap11 object at 0x113530410> is NOT polymorphic\n",
      "DEBUG:spyne.protocol._base:<spyne.protocol.soap.soap11.Soap11 object at 0x113530410> attrcache size: 3\n",
      "DEBUG:spyne.protocol._base:<spyne.protocol.soap.soap11.Soap11 object at 0x113530410> attrcache size: 3\n",
      "DEBUG:spyne.protocol._base:PMORPH Skipped: <spyne.protocol.soap.soap11.Soap11 object at 0x113530410> is NOT polymorphic\n",
      "DEBUG:spyne.protocol._base:<spyne.protocol.soap.soap11.Soap11 object at 0x113530410> attrcache size: 3\n",
      "DEBUG:spyne.protocol._base:<spyne.protocol.soap.soap11.Soap11 object at 0x113530410> attrcache size: 3\n",
      "DEBUG:spyne.protocol._base:PMORPH Skipped: <spyne.protocol.soap.soap11.Soap11 object at 0x113530410> is NOT polymorphic\n",
      "DEBUG:spyne.protocol._base:<spyne.protocol.soap.soap11.Soap11 object at 0x113530410> attrcache size: 3\n",
      "DEBUG:spyne.protocol._base:<spyne.protocol.soap.soap11.Soap11 object at 0x113530410> attrcache size: 3\n",
      "DEBUG:spyne.protocol._base:PMORPH Skipped: <spyne.protocol.soap.soap11.Soap11 object at 0x113530410> is NOT polymorphic\n",
      "DEBUG:spyne.protocol._base:<spyne.protocol.soap.soap11.Soap11 object at 0x113530410> attrcache size: 3\n",
      "DEBUG:spyne.protocol._base:<spyne.protocol.soap.soap11.Soap11 object at 0x113530410> attrcache size: 3\n",
      "DEBUG:spyne.protocol._base:PMORPH Skipped: <spyne.protocol.soap.soap11.Soap11 object at 0x113530410> is NOT polymorphic\n",
      "DEBUG:spyne.protocol._base:<spyne.protocol.soap.soap11.Soap11 object at 0x113530410> attrcache size: 3\n",
      "DEBUG:spyne.protocol._base:<spyne.protocol.soap.soap11.Soap11 object at 0x113530410> attrcache size: 3\n",
      "DEBUG:spyne:gc.collect() took around 80ms.\n",
      "DEBUG:spyne.server.wsgi:Add http header 'host' = ['0.0.0.0:8000']\n",
      "DEBUG:spyne.server.wsgi:Add http header 'user_agent' = ['python-requests/2.29.0']\n",
      "DEBUG:spyne.server.wsgi:Add http header 'accept_encoding' = ['gzip, deflate, br']\n"
     ]
    },
    {
     "name": "stderr",
     "output_type": "stream",
     "text": [
      "DEBUG:spyne.server.wsgi:Add http header 'accept' = ['*/*']\n",
      "DEBUG:spyne.server.wsgi:Add http header 'connection' = ['keep-alive']\n",
      "DEBUG:spyne.server.wsgi:Add http header 'content_type' = ['application/soap+xml; charset=utf-8']\n",
      "DEBUG:spyne.server.wsgi:Add http header 'content_length' = ['405']\n",
      "DEBUG:spyne.protocol.xml:Validated ? True\n",
      "DEBUG:spyne.protocol._base:<spyne.protocol.soap.soap11.Soap11 object at 0x11349ea90> attrcache size: 3\n",
      "DEBUG:spyne.protocol._base:<spyne.protocol.soap.soap11.Soap11 object at 0x11349ea90> attrcache size: 3\n",
      "DEBUG:spyne.protocol._base:<spyne.protocol.soap.soap11.Soap11 object at 0x11349ea90> attrcache size: 3\n",
      "DEBUG:spyne.protocol._base:<spyne.protocol.soap.soap11.Soap11 object at 0x11349ea90> attrcache size: 3\n",
      "DEBUG:spyne.protocol._base:<spyne.protocol.soap.soap11.Soap11 object at 0x11349ea90> attrcache size: 3\n",
      "DEBUG:spyne.protocol._base:<spyne.protocol.soap.soap11.Soap11 object at 0x11349ea90> attrcache size: 3\n",
      "DEBUG:spyne.protocol._base:<spyne.protocol.soap.soap11.Soap11 object at 0x11349ea90> attrcache size: 3\n",
      "DEBUG:spyne.protocol._base:<spyne.protocol.soap.soap11.Soap11 object at 0x11349ea90> attrcache size: 3\n",
      "DEBUG:spyne.protocol._base:<spyne.protocol.soap.soap11.Soap11 object at 0x11349ea90> attrcache size: 3\n",
      "DEBUG:spyne.protocol._base:<spyne.protocol.soap.soap11.Soap11 object at 0x113530410> attrcache size: 3\n",
      "DEBUG:spyne.protocol._base:PMORPH Skipped: <spyne.protocol.soap.soap11.Soap11 object at 0x113530410> is NOT polymorphic\n",
      "DEBUG:spyne.protocol._base:<spyne.protocol.soap.soap11.Soap11 object at 0x113530410> attrcache size: 3\n",
      "DEBUG:spyne.protocol._base:<spyne.protocol.soap.soap11.Soap11 object at 0x113530410> attrcache size: 3\n",
      "DEBUG:spyne.protocol._base:<spyne.protocol.soap.soap11.Soap11 object at 0x113530410> attrcache size: 3\n",
      "DEBUG:spyne.protocol._base:PMORPH Skipped: <spyne.protocol.soap.soap11.Soap11 object at 0x113530410> is NOT polymorphic\n",
      "DEBUG:spyne.protocol._base:<spyne.protocol.soap.soap11.Soap11 object at 0x113530410> attrcache size: 3\n",
      "DEBUG:spyne.protocol._base:<spyne.protocol.soap.soap11.Soap11 object at 0x113530410> attrcache size: 3\n",
      "DEBUG:spyne.protocol._base:<spyne.protocol.soap.soap11.Soap11 object at 0x113530410> attrcache size: 3\n",
      "DEBUG:spyne.protocol._base:PMORPH Skipped: <spyne.protocol.soap.soap11.Soap11 object at 0x113530410> is NOT polymorphic\n",
      "DEBUG:spyne.protocol._base:<spyne.protocol.soap.soap11.Soap11 object at 0x113530410> attrcache size: 3\n",
      "DEBUG:spyne.protocol._base:<spyne.protocol.soap.soap11.Soap11 object at 0x113530410> attrcache size: 3\n",
      "DEBUG:spyne.protocol._base:PMORPH Skipped: <spyne.protocol.soap.soap11.Soap11 object at 0x113530410> is NOT polymorphic\n",
      "DEBUG:spyne.protocol._base:<spyne.protocol.soap.soap11.Soap11 object at 0x113530410> attrcache size: 3\n",
      "DEBUG:spyne.protocol._base:<spyne.protocol.soap.soap11.Soap11 object at 0x113530410> attrcache size: 3\n",
      "DEBUG:spyne.protocol._base:PMORPH Skipped: <spyne.protocol.soap.soap11.Soap11 object at 0x113530410> is NOT polymorphic\n",
      "DEBUG:spyne.protocol._base:<spyne.protocol.soap.soap11.Soap11 object at 0x113530410> attrcache size: 3\n",
      "DEBUG:spyne.protocol._base:<spyne.protocol.soap.soap11.Soap11 object at 0x113530410> attrcache size: 3\n",
      "DEBUG:spyne.protocol._base:PMORPH Skipped: <spyne.protocol.soap.soap11.Soap11 object at 0x113530410> is NOT polymorphic\n",
      "DEBUG:spyne.protocol._base:<spyne.protocol.soap.soap11.Soap11 object at 0x113530410> attrcache size: 3\n",
      "DEBUG:spyne.protocol._base:<spyne.protocol.soap.soap11.Soap11 object at 0x113530410> attrcache size: 3\n",
      "DEBUG:spyne.protocol._base:PMORPH Skipped: <spyne.protocol.soap.soap11.Soap11 object at 0x113530410> is NOT polymorphic\n",
      "DEBUG:spyne.protocol._base:<spyne.protocol.soap.soap11.Soap11 object at 0x113530410> attrcache size: 3\n",
      "DEBUG:spyne.protocol._base:<spyne.protocol.soap.soap11.Soap11 object at 0x113530410> attrcache size: 3\n",
      "DEBUG:spyne.protocol._base:PMORPH Skipped: <spyne.protocol.soap.soap11.Soap11 object at 0x113530410> is NOT polymorphic\n",
      "DEBUG:spyne.protocol._base:<spyne.protocol.soap.soap11.Soap11 object at 0x113530410> attrcache size: 3\n",
      "DEBUG:spyne.protocol._base:<spyne.protocol.soap.soap11.Soap11 object at 0x113530410> attrcache size: 3\n",
      "DEBUG:spyne.protocol._base:PMORPH Skipped: <spyne.protocol.soap.soap11.Soap11 object at 0x113530410> is NOT polymorphic\n",
      "DEBUG:spyne.protocol._base:<spyne.protocol.soap.soap11.Soap11 object at 0x113530410> attrcache size: 3\n",
      "DEBUG:spyne.protocol._base:<spyne.protocol.soap.soap11.Soap11 object at 0x113530410> attrcache size: 3\n",
      "DEBUG:spyne.protocol._base:PMORPH Skipped: <spyne.protocol.soap.soap11.Soap11 object at 0x113530410> is NOT polymorphic\n",
      "DEBUG:spyne.protocol._base:<spyne.protocol.soap.soap11.Soap11 object at 0x113530410> attrcache size: 3\n",
      "DEBUG:spyne.protocol._base:<spyne.protocol.soap.soap11.Soap11 object at 0x113530410> attrcache size: 3\n",
      "DEBUG:spyne:gc.collect() took around 70ms.\n"
     ]
    }
   ],
   "source": [
    "class helloWorldService(ServiceBase):\n",
    "    @rpc(Unicode, Integer, _returns=Iterable(Unicode))\n",
    "    def say_hello(ctx, name, times):\n",
    "        for i in range(times):\n",
    "            yield \"hello, %s\"%name\n",
    "\n",
    "application = Application([helloWorldService],\n",
    "                        tns='spyne.examples.hello',\n",
    "                        in_protocol=Soap11(validator='lxml'),\n",
    "                        out_protocol=Soap11()\n",
    "                    )\n",
    "\n",
    "\n",
    "if __name__ == '__main__':\n",
    "\n",
    "    wsgi_app = WsgiApplication(application)\n",
    "\n",
    "\n",
    "    twisted_apps = [\n",
    "        (wsgi_app, b'helloWorldService'),\n",
    "    ]\n",
    "\n",
    "    sys.exit(run_twisted(twisted_apps,8000))"
   ]
  },
  {
   "cell_type": "code",
   "execution_count": null,
   "metadata": {},
   "outputs": [],
   "source": []
  },
  {
   "cell_type": "code",
   "execution_count": null,
   "metadata": {},
   "outputs": [],
   "source": []
  }
 ],
 "metadata": {
  "kernelspec": {
   "display_name": "Python 3 (ipykernel)",
   "language": "python",
   "name": "python3"
  },
  "language_info": {
   "codemirror_mode": {
    "name": "ipython",
    "version": 3
   },
   "file_extension": ".py",
   "mimetype": "text/x-python",
   "name": "python",
   "nbconvert_exporter": "python",
   "pygments_lexer": "ipython3",
   "version": "3.11.3"
  }
 },
 "nbformat": 4,
 "nbformat_minor": 2
}
