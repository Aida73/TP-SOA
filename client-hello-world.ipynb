{
 "cells": [
  {
   "cell_type": "code",
   "execution_count": 1,
   "metadata": {},
   "outputs": [],
   "source": [
    "import requests\n",
    "url = \"http://0.0.0.0:8000/helloWorldService\""
   ]
  },
  {
   "cell_type": "code",
   "execution_count": 5,
   "metadata": {},
   "outputs": [],
   "source": [
    "enveloppeSOAP = '''\\\n",
    "<soapenv:Envelope xmlns:soapenv=\"http://schemas.xmlsoap.org/soap/envelope/\" xmlns:spy=\"spyne.examples.hello\">\n",
    "    <soapenv:Header/>\n",
    "        <soapenv:Body>\n",
    "            <spy:say_hello>\n",
    "                <!--Optional:-->\n",
    "                <spy:name>Balde</spy:name>\n",
    "                <!--Optional:-->\n",
    "                <spy:times>8</spy:times>\n",
    "            </spy:say_hello>\n",
    "        </soapenv:Body>\n",
    "</soapenv:Envelope>'''"
   ]
  },
  {
   "cell_type": "code",
   "execution_count": 6,
   "metadata": {},
   "outputs": [],
   "source": [
    "headers = {'content-type':'application/soap+xml; charset=utf-8'}\n",
    "response = requests.post(url, data=enveloppeSOAP, headers=headers)"
   ]
  },
  {
   "cell_type": "code",
   "execution_count": 7,
   "metadata": {},
   "outputs": [
    {
     "name": "stdout",
     "output_type": "stream",
     "text": [
      "<?xml version='1.0' encoding='UTF-8'?>\n",
      "<soap11env:Envelope xmlns:soap11env=\"http://schemas.xmlsoap.org/soap/envelope/\" xmlns:tns=\"spyne.examples.hello\"><soap11env:Body><tns:say_helloResponse><tns:say_helloResult><tns:string>hello, Balde</tns:string><tns:string>hello, Balde</tns:string><tns:string>hello, Balde</tns:string><tns:string>hello, Balde</tns:string><tns:string>hello, Balde</tns:string><tns:string>hello, Balde</tns:string><tns:string>hello, Balde</tns:string><tns:string>hello, Balde</tns:string></tns:say_helloResult></tns:say_helloResponse></soap11env:Body></soap11env:Envelope>\n"
     ]
    }
   ],
   "source": [
    "print(response.text)"
   ]
  },
  {
   "cell_type": "code",
   "execution_count": null,
   "metadata": {},
   "outputs": [],
   "source": []
  }
 ],
 "metadata": {
  "kernelspec": {
   "display_name": "Python 3 (ipykernel)",
   "language": "python",
   "name": "python3"
  },
  "language_info": {
   "codemirror_mode": {
    "name": "ipython",
    "version": 3
   },
   "file_extension": ".py",
   "mimetype": "text/x-python",
   "name": "python",
   "nbconvert_exporter": "python",
   "pygments_lexer": "ipython3",
   "version": "3.11.3"
  }
 },
 "nbformat": 4,
 "nbformat_minor": 2
}
